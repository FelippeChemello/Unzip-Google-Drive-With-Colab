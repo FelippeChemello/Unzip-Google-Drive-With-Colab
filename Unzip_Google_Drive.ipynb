{
  "nbformat": 4,
  "nbformat_minor": 0,
  "metadata": {
    "colab": {
      "name": "Unzip Google Drive.ipynb",
      "provenance": [],
      "collapsed_sections": []
    },
    "kernelspec": {
      "name": "python3",
      "display_name": "Python 3"
    },
    "language_info": {
      "name": "python"
    }
  },
  "cells": [
    {
      "cell_type": "code",
      "source": [
        "#@markdown <br><center><img src='https://github.com/TheCaduceus/Google-Drive-Cloner/blob/main/Img/st.jpeg?raw=true' height=\"50\" alt=\"ST-logo\"/></center>\n",
        "#@markdown <center><h3>Check Tranfer Speed!</h3></center><br>\n",
        "!curl -s https://raw.githubusercontent.com/sivel/speedtest-cli/master/speedtest.py | python"
      ],
      "metadata": {
        "id": "U9EmKv6xCo9f",
        "cellView": "form"
      },
      "execution_count": null,
      "outputs": []
    },
    {
      "cell_type": "code",
      "execution_count": null,
      "metadata": {
        "id": "6G0H5_vf2ETG",
        "cellView": "form"
      },
      "outputs": [],
      "source": [
        "#@markdown <br><center><img src=\"https://upload.wikimedia.org/wikipedia/commons/thumb/d/da/Google_Drive_logo.png/600px-Google_Drive_logo.png\" height=\"50\" alt=\"Gdrive-logo' \"/></center>\n",
        "#@markdown <center><h3>Connect to Google Account</h3></center><br>\n",
        "#Mount your Gdrive! \n",
        "from google.colab import drive\n",
        "drive.mount._DEBUG = False\n",
        "drive.mount('/gdrive', force_remount=True)"
      ]
    },
    {
      "cell_type": "code",
      "source": [
        "#@markdown <br><center><img src='https://upload.wikimedia.org/wikipedia/commons/thumb/d/da/Google_Drive_logo.png/600px-Google_Drive_logo.png' height=\"50\" alt=\"Gdrive-logo\"/></center>\n",
        "#@markdown <center><h3>Select zipped file in My Drive</h3></center><br>\n",
        "import sys\n",
        "import os\n",
        "import ipywidgets as ui\n",
        "from IPython.display import display\n",
        "\n",
        "class PathSelector():\n",
        "    def __init__(self,start_dir,select_file=True):\n",
        "        self.file        = None \n",
        "        self.select_file = select_file\n",
        "        self.cwd         = start_dir\n",
        "        self.select      = ui.SelectMultiple(options=['init'],value=(),rows=10,description='') \n",
        "        self.accord      = ui.Accordion(children=[self.select]) \n",
        "\n",
        "        self.accord.selected_index = None # Start closed (showing path only)\n",
        "        self.refresh(self.cwd)\n",
        "        self.select.observe(self.on_update,'value')\n",
        "\n",
        "    def on_update(self,change):\n",
        "        if len(change['new']) > 0:\n",
        "            self.refresh(change['new'][0])\n",
        "\n",
        "    def refresh(self,item):\n",
        "        path = os.path.abspath(os.path.join(self.cwd,item))\n",
        "\n",
        "        if os.path.isfile(path):\n",
        "            if self.select_file:\n",
        "                self.accord.set_title(0,path)  \n",
        "                self.file = path\n",
        "                self.accord.selected_index = None\n",
        "            else:\n",
        "                self.select.value = ()\n",
        "\n",
        "        else:\n",
        "            self.file = None \n",
        "            self.cwd  = path\n",
        "\n",
        "            # Build list of files and dirs\n",
        "            keys = ['[..]']; \n",
        "            for item in os.listdir(path):\n",
        "                if item[0] == '.':\n",
        "                    continue\n",
        "                elif os.path.isdir(os.path.join(path,item)):\n",
        "                    keys.append('['+item+']'); \n",
        "                else:\n",
        "                    keys.append(item); \n",
        "\n",
        "            keys.sort(key=str.lower)\n",
        "            vals = []\n",
        "            for k in keys:\n",
        "                if k[0] == '[':\n",
        "                    vals.append(k[1:-1])\n",
        "                else:\n",
        "                    vals.append(k)\n",
        "\n",
        "            # Update widget\n",
        "            self.accord.set_title(0,path)  \n",
        "            self.select.options = list(zip(keys,vals)) \n",
        "            with self.select.hold_trait_notifications():\n",
        "                self.select.value = ()\n",
        "\n",
        "f = PathSelector('/gdrive/MyDrive')\n",
        "display(f.accord)"
      ],
      "metadata": {
        "id": "YHKSKxlxCjUe",
        "cellView": "form"
      },
      "execution_count": null,
      "outputs": []
    },
    {
      "cell_type": "code",
      "source": [
        "#@markdown <br><center><img src='https://upload.wikimedia.org/wikipedia/commons/thumb/d/da/Google_Drive_logo.png/600px-Google_Drive_logo.png' height=\"50\" alt=\"Gdrive-logo\"/></center>\n",
        "#@markdown <center><h3>Run to Extract files</h3></center><br>\n",
        "\n",
        "!pip install patool pyunpack\n",
        "!apt-get install p7zip-full\n",
        "\n",
        "import pyunpack as unzip\n",
        "\n",
        "dirPath = os.path.splitext(f.file)[0]\n",
        "os.makedirs(dirPath, exist_ok=True)\n",
        "\n",
        "unzip.Archive(f.file).extractall(dirPath)\n",
        "\n",
        "print(\"\\n\\n---------------------------------\")\n",
        "print(\"Extracted Files: \\n\")\n",
        "os.listdir(dirPath)"
      ],
      "metadata": {
        "cellView": "form",
        "id": "UlD1dr16Bvgl"
      },
      "execution_count": null,
      "outputs": []
    },
    {
      "cell_type": "code",
      "source": [
        "#@markdown <br><center><img src='https://upload.wikimedia.org/wikipedia/commons/thumb/d/da/Google_Drive_logo.png/600px-Google_Drive_logo.png' height=\"50\" alt=\"Gdrive-logo\"/></center>\n",
        "#@markdown <center><h3>Save and Disconnect from Google Drive</h3></center><br>\n",
        "\n",
        "try:\n",
        "    drive.flush_and_unmount()\n",
        "except ValueError:\n",
        "    pass"
      ],
      "metadata": {
        "cellView": "form",
        "id": "oJxhV4egFyEy"
      },
      "execution_count": null,
      "outputs": []
    }
  ]
}